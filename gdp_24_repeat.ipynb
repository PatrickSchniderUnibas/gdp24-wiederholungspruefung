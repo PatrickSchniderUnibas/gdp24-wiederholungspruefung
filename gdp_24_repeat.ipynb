{
 "cells": [
  {
   "cell_type": "markdown",
   "id": "bd1f3523",
   "metadata": {
    "deletable": false,
    "editable": false
   },
   "source": [
    "# Übungen: Grundlagen der Programmierung: Wiederholungsprüfung zur Prüfung 1\n",
    "\n",
    "### Herbstsemester 2024\n",
    "\n",
    "\n",
    "##### Bearbeitungszeit:\n",
    "\n",
    "60 Minuten\n",
    "\n",
    "##### Maximal erreichbare Punktzahl: \n",
    "\n",
    "30\n",
    "\n",
    "##### Erlaubte Hilfsmittel: \n",
    "\n",
    "Studierende nicht deutscher Muttersprache dürfen Google Translate benutzen um die Aufgaben zu übersetzen. \n",
    "\n",
    "* [Link zu Google Translate](https://translate.google.com)\n",
    "\n",
    "Falls benötigt, können Sie hier auf die Dokumentation von Java zugreifen:\n",
    "\n",
    "* [Java-Dokumentation](https://docs.oracle.com/javase/8/docs/api/?java/lang/Math.html)"
   ]
  },
  {
   "cell_type": "markdown",
   "id": "61c53bb5",
   "metadata": {
    "deletable": false,
    "editable": false
   },
   "source": [
    "**Schreiben Sie in diese Zelle Ihren Vornamen und Namen und E-Mail Adresse**"
   ]
  },
  {
   "cell_type": "markdown",
   "id": "a64c0141",
   "metadata": {
    "deletable": false,
    "exercise_id": 0
   },
   "source": [
    "Hans Muster hans.muster@unibas.ch"
   ]
  },
  {
   "cell_type": "markdown",
   "id": "17284c67",
   "metadata": {
    "deletable": false,
    "editable": false
   },
   "source": [
    "## Aufgabe 1 (2 Punkte)\n",
    "\n",
    "Der folgende Code die Summe von zwei potentiell grossen ganzen Zahlen ausgeben.\n",
    "\n",
    "```java\n",
    "class LargeSum {\n",
    "\n",
    "    public static int sumUp(long a, long b) {\n",
    "        long c = a + b;\n",
    "        return c;\n",
    "    }\n",
    "\n",
    "    public static void main(String[] args) {\n",
    "        long a = 10l;\n",
    "        long b = 23l;\n",
    "        println(sumUp(a,b));\n",
    "    }\n",
    "}\n",
    "```\n",
    "\n",
    "Der Code kompiliert jedoch nicht. Finden Sie die Fehler und fügen an der entsprechenden Stelle im Code einen Kommentar hinzu, der den Fehler beschreibt. Korrigieren Sie zudem das Programm, so dass es korrekt funktioniert."
   ]
  },
  {
   "cell_type": "code",
   "execution_count": null,
   "id": "21370e06",
   "metadata": {
    "deletable": false,
    "exercise_id": 1,
    "vscode": {
     "languageId": "java"
    }
   },
   "outputs": [],
   "source": [
    "class LargeSum {\n",
    "\n",
    "    public static int sumUp(long a, long b) {\n",
    "        long c = a + b;\n",
    "        return c;\n",
    "    }\n",
    "\n",
    "    public static void main(String[] args) {\n",
    "        long a = 10l;\n",
    "        long b = 23l;\n",
    "        println(sumUp(a,b));\n",
    "    }\n",
    "}"
   ]
  },
  {
   "cell_type": "code",
   "execution_count": null,
   "id": "191825cb",
   "metadata": {
    "deletable": false,
    "vscode": {
     "languageId": "java"
    }
   },
   "outputs": [],
   "source": [
    "LargeSum.main(new String[0]);"
   ]
  },
  {
   "cell_type": "markdown",
   "id": "25ded965",
   "metadata": {
    "deletable": false,
    "editable": false
   },
   "source": [
    "## Aufgabe 2 (2 Punkte)\n",
    "\n",
    "Der folgende Code anhand der Anzahl von gewonnenen und verlorenen Spielen eine Gewinnwahrscheinlichkeit (in Prozent) berechen. Das Resultat ist aber falsch. Korrigieren Sie den Code so, dass das Resultat richtig wird.\n",
    "\n",
    "```java\n",
    "class Win {\n",
    "    public static void main(String[] args) {\n",
    "        int wins = 10;\n",
    "        int losses = 5;\n",
    "        double probability = wins / (wins + losses) * 100;\n",
    "        System.out.println(probability);\n",
    "    }\n",
    "}\n",
    "```"
   ]
  },
  {
   "cell_type": "code",
   "execution_count": null,
   "id": "17522762",
   "metadata": {
    "deletable": false,
    "exercise_id": 2,
    "vscode": {
     "languageId": "java"
    }
   },
   "outputs": [],
   "source": [
    "class Win {\n",
    "    public static void main(String[] args) {\n",
    "        int wins = 10;\n",
    "        int losses = 5;\n",
    "        double probability = wins / (wins + losses) * 100;\n",
    "        System.out.println(probability);\n",
    "    }\n",
    "}"
   ]
  },
  {
   "cell_type": "code",
   "execution_count": null,
   "id": "3c8ef8d3",
   "metadata": {
    "deletable": false,
    "vscode": {
     "languageId": "java"
    }
   },
   "outputs": [],
   "source": [
    "Win.main(new String[0]);"
   ]
  },
  {
   "cell_type": "markdown",
   "id": "0022bcfa",
   "metadata": {
    "deletable": false,
    "editable": false
   },
   "source": [
    "## Aufgabe 3 (4 Punkte)\n",
    "Schreiben Sie eine Methode `onlyDivisible` welche drei ganzzahlige Parameter `n` und `a` und `b` entgegennimmt und alle ganzen Zahlen zwischen 1 und $n$ ausgibt, die durch $a$ oder $b$ teilbar sind, aber nicht durch beide.\n",
    "\n",
    "Der Aufruf `onlyDivisible(10,2,3)` beispielsweise sollte die Zahlen $2,3,4,8,9,10$ ausgeben."
   ]
  },
  {
   "cell_type": "code",
   "execution_count": null,
   "id": "e5db6e0c",
   "metadata": {
    "deletable": false,
    "exercise_id": 3,
    "vscode": {
     "languageId": "java"
    }
   },
   "outputs": [],
   "source": [
    "class Numbers {\n",
    "\n",
    "    // Ihre Lösung\n",
    "\n",
    "    public static void main(String[] args) {\n",
    "        // Aufruf für n = 10, a = 2 und  b = 3\n",
    "        onlyDivisible(10, 2, 3);\n",
    "    }\n",
    "\n",
    "}"
   ]
  },
  {
   "cell_type": "code",
   "execution_count": null,
   "id": "2b887f60",
   "metadata": {
    "deletable": false,
    "vscode": {
     "languageId": "java"
    }
   },
   "outputs": [],
   "source": [
    "Numbers.main(new String[0]);"
   ]
  },
  {
   "cell_type": "markdown",
   "id": "ccbd3737",
   "metadata": {
    "deletable": false,
    "editable": false
   },
   "source": [
    "## Aufgabe 4 (3 Punkte)\n",
    "\n",
    "Schreiben Sie eine Methode `asString`, welche einen String `name` und eine Ganzzahl `n` entgegennimmt, und den Satz \"`name` ist `n` Jahre alt.\" zurückgibt. So soll zum Beispiel `asString(\"Juan\", 53)` den String `\"Juan ist 53 Jahre alt.\"` zurückgeben. Sie dürfen, müssen aber nicht `String.format` verwenden. Falls Sie `String.format` verwenden können Sie das Formatierungszeichen `%d` für Ganzzahlen verwenden. "
   ]
  },
  {
   "cell_type": "code",
   "execution_count": null,
   "id": "65c5c97d",
   "metadata": {
    "deletable": false,
    "exercise_id": 4,
    "vscode": {
     "languageId": "java"
    }
   },
   "outputs": [],
   "source": [
    "class Age {\n",
    "    \n",
    "    // Ihre Lösung\n",
    "    \n",
    "    public static void main(String[] args) {\n",
    "        System.out.println(asString(\"Juan\", 53));\n",
    "    }\n",
    "}"
   ]
  },
  {
   "cell_type": "code",
   "execution_count": null,
   "id": "7f7fe433",
   "metadata": {
    "deletable": false,
    "vscode": {
     "languageId": "java"
    }
   },
   "outputs": [],
   "source": [
    "Age.main(new String[0]);"
   ]
  },
  {
   "cell_type": "markdown",
   "id": "cbc99138",
   "metadata": {
    "deletable": false,
    "editable": false
   },
   "source": [
    "## Aufgabe 5 (4 Punkte)\n",
    "Schreiben Sie eine Methode `drawCross` welche eine positive ungerade Zahl `n` entgegennimmt und eine Tabelle der Grösse $n\\times n$ ausgibt. In dieser Tabelle soll überall `.` stehen, ausser auf der mittleren Zeile und der mittleren Spalte, wo `X` stehen soll. Für $n=5$ sollten Sie die folgende Tabelle erhalten:\n",
    "\n",
    "```\n",
    "..X..\n",
    "..X..\n",
    "XXXXX\n",
    "..X..\n",
    "..X..\n",
    "```\n",
    "\n",
    "Es ist egal, was ihr Programm für gerade Zahlen `n` macht."
   ]
  },
  {
   "cell_type": "code",
   "execution_count": null,
   "id": "da5ba08f",
   "metadata": {
    "deletable": false,
    "exercise_id": 5,
    "vscode": {
     "languageId": "java"
    }
   },
   "outputs": [],
   "source": [
    "class Cross {\n",
    "\n",
    "    // Ihre Lösung\n",
    "\n",
    "    public static void main(String[] args) {\n",
    "        drawCross(5);\n",
    "    }\n",
    "\n",
    "}"
   ]
  },
  {
   "cell_type": "code",
   "execution_count": null,
   "id": "808b8afb",
   "metadata": {
    "deletable": false,
    "vscode": {
     "languageId": "java"
    }
   },
   "outputs": [],
   "source": [
    "Cross.main(new String[0]);"
   ]
  },
  {
   "cell_type": "markdown",
   "id": "f631e812",
   "metadata": {
    "deletable": false,
    "editable": false
   },
   "source": [
    "## Aufgabe 6 (3 Punkte)\n",
    "Schreiben Sie eine rekursive Methode `recPow` welche zwei ganze Zahlen `a` und `b` entgegennimmt und mittels Rekursion die Potenz $a^b$ berechnet und das Resultat zurückgibt. Der Aufruf `recPow(2, 3)` sollte also `8` zurückgeben."
   ]
  },
  {
   "cell_type": "code",
   "execution_count": null,
   "id": "75f02130",
   "metadata": {
    "deletable": false,
    "exercise_id": 6,
    "vscode": {
     "languageId": "java"
    }
   },
   "outputs": [],
   "source": [
    "class Recursion {\n",
    "\n",
    "    // Ihre Lösung\n",
    "\n",
    "    public static void main(String[] args) {\n",
    "        System.out.println(recPow(2, 3));\n",
    "    }\n",
    "}"
   ]
  },
  {
   "cell_type": "code",
   "execution_count": null,
   "id": "67fa6a03",
   "metadata": {
    "deletable": false,
    "vscode": {
     "languageId": "java"
    }
   },
   "outputs": [],
   "source": [
    "Recursion.main(new String[0]);"
   ]
  },
  {
   "cell_type": "markdown",
   "id": "aa7c7d57",
   "metadata": {
    "deletable": false,
    "editable": false
   },
   "source": [
    "## Aufgabe 7 (3 Punkte)\n",
    "\n",
    "Schreiben Sie eine Methode `rest`, die zwei ganze Zahlen `a` und `b` entgegennimmt. Die Methode soll eine Division mit Rest machen und den folgenden Satz ausgeben: `a dividiert durch b gibt c mit Rest d`. Hierbei sollen `a`, `b`, `c` und `d` durch die korrekten Werte ersetzt werden."
   ]
  },
  {
   "cell_type": "code",
   "execution_count": null,
   "id": "33f457f9",
   "metadata": {
    "deletable": false,
    "exercise_id": 7,
    "vscode": {
     "languageId": "java"
    }
   },
   "outputs": [],
   "source": [
    "class Division {\n",
    "    \n",
    "    // Ihre Lösung\n",
    "\n",
    "    public static void main(String[] args) {\n",
    "        rest(135, 7);\n",
    "    }\n",
    "}"
   ]
  },
  {
   "cell_type": "code",
   "execution_count": null,
   "id": "074eba5d",
   "metadata": {
    "deletable": false,
    "vscode": {
     "languageId": "java"
    }
   },
   "outputs": [],
   "source": [
    "Division.main(new String[0]);"
   ]
  },
  {
   "cell_type": "markdown",
   "id": "30c3c501",
   "metadata": {
    "deletable": false,
    "editable": false
   },
   "source": [
    "## Aufgabe 8 (4 Punkte)\n",
    "Schreiben Sie eine Methode 'append' welche zwei Gleitkommazahl-Arrays entgegennimmt und aneinanderhängt. Genauer gesagt soll ein neues Array zurückgegeben werden, dessen erste Einträge diejenigen vom ersten Array sind, gefolgt von den Einträgen des zweiten Arrays. Für die zwei Arrays `a = [1.2, 3.0]` und `b = [3.1, 2.3, 3.0]` sollte der Aufruf `append(a, b)` also das Array `[1.2, 3.0, 3.1, 2.3, 3.0]` zurückgeben."
   ]
  },
  {
   "cell_type": "code",
   "execution_count": null,
   "id": "86e869af",
   "metadata": {
    "deletable": false,
    "exercise_id": 8,
    "vscode": {
     "languageId": "java"
    }
   },
   "outputs": [],
   "source": [
    "class ArrayAppend {\n",
    "\n",
    "    // Ihre Lösung\n",
    "\n",
    "    public static void main(String[] args) {\n",
    "        System.out.println(Arrays.toString(append(new double[]{1.2, 3.0}, new double[]{2.1, 2.3, 3.0})));\n",
    "    }\n",
    "}"
   ]
  },
  {
   "cell_type": "code",
   "execution_count": null,
   "id": "6a5c9829",
   "metadata": {
    "deletable": false,
    "vscode": {
     "languageId": "java"
    }
   },
   "outputs": [],
   "source": [
    "ArrayAppend.main(new String[0]);"
   ]
  },
  {
   "cell_type": "markdown",
   "id": "fb55fb7c",
   "metadata": {
    "deletable": false,
    "editable": false
   },
   "source": [
    "## Aufgabe 9 (5 Punkte)\n",
    "Ein magisches Rechteck ist eine Tabelle von ganzen Zahlen, in der die Summe jeder Spalte sowie die Summe jeder Zeile den selben Wert gibt. Schreiben Sie eine Methode `isMagic`, welche eine Tabelle von Zahlen entgegennimmt und zurückgibt, ob es sich bei der Tabelle um ein magisches Rechteck handelt."
   ]
  },
  {
   "cell_type": "code",
   "execution_count": null,
   "id": "4311ef08",
   "metadata": {
    "deletable": false,
    "exercise_id": 9,
    "vscode": {
     "languageId": "java"
    }
   },
   "outputs": [],
   "source": [
    "class Magic{\n",
    "\n",
    "    // Ihre Lösung\n",
    "\n",
    "    public static void main(String[] args) {\n",
    "        int[][] candidate1 = new int[][]{{1, 3, 2}, {2, 2, 2}, {3, 1, 2}};\n",
    "        int[][] candidate2 = new int[][]{{1, 3}, {3, 1}, {2, 2}};\n",
    "        System.out.println(isMagic(candidate1)); // sollte true geben\n",
    "        System.out.println(isMagic(candidate2)); // sollte false geben\n",
    "    }\n",
    "}"
   ]
  },
  {
   "cell_type": "code",
   "execution_count": null,
   "id": "f354f497",
   "metadata": {
    "deletable": false,
    "vscode": {
     "languageId": "java"
    }
   },
   "outputs": [],
   "source": [
    "Magic.main(new String[0]);"
   ]
  }
 ],
 "metadata": {
  "celltoolbar": "Edit Metadata",
  "exercise_series": "gdp",
  "kernelspec": {
   "display_name": "Java",
   "language": "java",
   "name": "java"
  },
  "language_info": {
   "codemirror_mode": "java",
   "file_extension": ".jshell",
   "mimetype": "text/x-java-source",
   "name": "Java",
   "pygments_lexer": "java",
   "version": "17.0.11+7-LTS-jvmci-23.0-b34"
  },
  "notebook_id": 2301
 },
 "nbformat": 4,
 "nbformat_minor": 5
}
