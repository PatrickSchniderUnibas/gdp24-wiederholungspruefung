{
 "cells": [
  {
   "cell_type": "markdown",
   "id": "bd1f3523",
   "metadata": {
    "deletable": false,
    "editable": false
   },
   "source": [
    "# Übungen: Grundlagen der Programmierung: Wiederholungsprüfung zur Prüfung 1\n",
    "\n",
    "### Herbstsemester 2024\n",
    "\n",
    "\n",
    "##### Bearbeitungszeit:\n",
    "\n",
    "60 Minuten\n",
    "\n",
    "##### Maximal erreichbare Punktzahl: \n",
    "\n",
    "30\n",
    "\n",
    "##### Erlaubte Hilfsmittel: \n",
    "\n",
    "Studierende nicht deutscher Muttersprache dürfen Google Translate benutzen um die Aufgaben zu übersetzen. \n",
    "\n",
    "* [Link zu Google Translate](https://translate.google.com)\n",
    "\n",
    "Falls benötigt, können Sie hier auf die Dokumentation von Java zugreifen:\n",
    "\n",
    "* [Java-Dokumentation](https://docs.oracle.com/javase/8/docs/api/?java/lang/Math.html)"
   ]
  },
  {
   "cell_type": "markdown",
   "id": "61c53bb5",
   "metadata": {
    "deletable": false,
    "editable": false
   },
   "source": [
    "**Schreiben Sie in diese Zelle Ihren Vornamen und Namen und E-Mail Adresse**"
   ]
  },
  {
   "cell_type": "markdown",
   "id": "a64c0141",
   "metadata": {
    "deletable": false,
    "exercise_id": 0
   },
   "source": [
    "Hans Muster hans.muster@unibas.ch"
   ]
  }
 ],
 "metadata": {
  "celltoolbar": "Edit Metadata",
  "exercise_series": "gdp",
  "kernelspec": {
   "display_name": "Java",
   "language": "java",
   "name": "java"
  },
  "language_info": {
   "codemirror_mode": "java",
   "file_extension": ".jshell",
   "mimetype": "text/x-java-source",
   "name": "Java",
   "pygments_lexer": "java",
   "version": "17.0.11+7-LTS-jvmci-23.0-b34"
  },
  "notebook_id": 2301
 },
 "nbformat": 4,
 "nbformat_minor": 5
}
